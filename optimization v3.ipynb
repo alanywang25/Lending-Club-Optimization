{
 "cells": [
  {
   "cell_type": "code",
   "execution_count": 108,
   "id": "9b85c719-8816-4bad-9685-3762af96ba26",
   "metadata": {},
   "outputs": [],
   "source": [
    "import pandas as pd\n",
    "import numpy as np\n",
    "\n",
    "# Load data\n",
    "loans = pd.read_csv('loans_filtered.csv')"
   ]
  },
  {
   "cell_type": "code",
   "execution_count": 109,
   "id": "d0bbf2f2-634a-4a02-94a7-03df16370b64",
   "metadata": {},
   "outputs": [
    {
     "data": {
      "text/html": [
       "<div>\n",
       "<style scoped>\n",
       "    .dataframe tbody tr th:only-of-type {\n",
       "        vertical-align: middle;\n",
       "    }\n",
       "\n",
       "    .dataframe tbody tr th {\n",
       "        vertical-align: top;\n",
       "    }\n",
       "\n",
       "    .dataframe thead th {\n",
       "        text-align: right;\n",
       "    }\n",
       "</style>\n",
       "<table border=\"1\" class=\"dataframe\">\n",
       "  <thead>\n",
       "    <tr style=\"text-align: right;\">\n",
       "      <th></th>\n",
       "      <th>loan_amount</th>\n",
       "      <th>grade</th>\n",
       "      <th>present_value</th>\n",
       "    </tr>\n",
       "  </thead>\n",
       "  <tbody>\n",
       "    <tr>\n",
       "      <th>0</th>\n",
       "      <td>28000</td>\n",
       "      <td>C</td>\n",
       "      <td>19698.171697</td>\n",
       "    </tr>\n",
       "    <tr>\n",
       "      <th>1</th>\n",
       "      <td>5000</td>\n",
       "      <td>C</td>\n",
       "      <td>3883.630634</td>\n",
       "    </tr>\n",
       "    <tr>\n",
       "      <th>2</th>\n",
       "      <td>2000</td>\n",
       "      <td>D</td>\n",
       "      <td>1560.712278</td>\n",
       "    </tr>\n",
       "    <tr>\n",
       "      <th>3</th>\n",
       "      <td>21600</td>\n",
       "      <td>A</td>\n",
       "      <td>17859.256538</td>\n",
       "    </tr>\n",
       "    <tr>\n",
       "      <th>4</th>\n",
       "      <td>23000</td>\n",
       "      <td>C</td>\n",
       "      <td>18239.897556</td>\n",
       "    </tr>\n",
       "    <tr>\n",
       "      <th>5</th>\n",
       "      <td>5000</td>\n",
       "      <td>A</td>\n",
       "      <td>4134.149404</td>\n",
       "    </tr>\n",
       "    <tr>\n",
       "      <th>6</th>\n",
       "      <td>24000</td>\n",
       "      <td>C</td>\n",
       "      <td>16704.187253</td>\n",
       "    </tr>\n",
       "    <tr>\n",
       "      <th>7</th>\n",
       "      <td>20000</td>\n",
       "      <td>B</td>\n",
       "      <td>14964.084702</td>\n",
       "    </tr>\n",
       "    <tr>\n",
       "      <th>8</th>\n",
       "      <td>20000</td>\n",
       "      <td>C</td>\n",
       "      <td>15752.881138</td>\n",
       "    </tr>\n",
       "    <tr>\n",
       "      <th>9</th>\n",
       "      <td>6400</td>\n",
       "      <td>A</td>\n",
       "      <td>5290.904574</td>\n",
       "    </tr>\n",
       "  </tbody>\n",
       "</table>\n",
       "</div>"
      ],
      "text/plain": [
       "   loan_amount grade  present_value\n",
       "0        28000     C   19698.171697\n",
       "1         5000     C    3883.630634\n",
       "2         2000     D    1560.712278\n",
       "3        21600     A   17859.256538\n",
       "4        23000     C   18239.897556\n",
       "5         5000     A    4134.149404\n",
       "6        24000     C   16704.187253\n",
       "7        20000     B   14964.084702\n",
       "8        20000     C   15752.881138\n",
       "9         6400     A    5290.904574"
      ]
     },
     "execution_count": 109,
     "metadata": {},
     "output_type": "execute_result"
    }
   ],
   "source": [
    "grade_to_annual_default = {\n",
    "    'A': 0.02,\n",
    "    'B': 0.035, \n",
    "    'C': 0.05,\n",
    "    'D': 0.065,\n",
    "    'E': 0.08,\n",
    "    'F': 0.095,\n",
    "    'G': 0.11\n",
    "}\n",
    "\n",
    "grade_to_apr_cap = {\n",
    "    'A': 0.18,  \n",
    "    'B': 0.22,   \n",
    "    'C': 0.26,   \n",
    "    'D': 0.29,   \n",
    "    'E': 0.32, \n",
    "    'F': 0.34,\n",
    "    'G': 0.36\n",
    "}\n",
    "\n",
    "def calculate_present_value(row):\n",
    "    term = int(row['term'])\n",
    "    installment = row['installment']\n",
    "    grade = row['grade']\n",
    "    \n",
    "    # Grade-specific APR cap\n",
    "    r_max = grade_to_apr_cap[grade]\n",
    "    # Grade-specific annual default rate\n",
    "    annual_default = grade_to_annual_default[grade]\n",
    "    monthly_default = 1 - (1 - annual_default) ** (1/12)\n",
    "    monthly_survival = 1 - monthly_default\n",
    "    \n",
    "    monthly_discount = 1 + r_max / 12  # Now varies by grade\n",
    "    \n",
    "    total_pv = 0.0\n",
    "    for t in range(1, term + 1):\n",
    "        survival_prob = monthly_survival ** t\n",
    "        discounted_payment = installment * survival_prob / (monthly_discount ** t)\n",
    "        total_pv += discounted_payment\n",
    "    \n",
    "    return total_pv\n",
    "\n",
    "# Calculate present value for each loan\n",
    "loans['present_value'] = loans.apply(calculate_present_value, axis=1)\n",
    "\n",
    "loans[[\"loan_amount\", \"grade\",  \"present_value\"]].head(10)"
   ]
  },
  {
   "cell_type": "code",
   "execution_count": 110,
   "id": "ea0db3af-70e4-475d-8ef9-80e7b033dbd6",
   "metadata": {},
   "outputs": [],
   "source": [
    "# Origination fee bounds by grade and term\n",
    "fee_bounds = {\n",
    "    '36': {\n",
    "        'A': (0.0300, 0.0400),  # 3.00%-4.00%\n",
    "        'B': (0.0300, 0.0450),  # 3.00%-4.50%\n",
    "        'C': (0.0300, 0.0500),  # 3.00%-5.00%\n",
    "        'D': (0.0350, 0.0550),  # 3.50%-5.50%\n",
    "        'E': (0.0400, 0.0600),  # 4.00%-6.00%\n",
    "        'F': (0.0450, 0.0700),  # 4.50%-7.00%\n",
    "        'G': (0.0500, 0.0800),  # 5.00%-8.00%\n",
    "    },\n",
    "    '60': {\n",
    "        'A': (0.0325, 0.0425),  # 3.25%-4.25%\n",
    "        'B': (0.0350, 0.0475),  # 3.50%-4.75%\n",
    "        'C': (0.0375, 0.0525),  # 3.75%-5.25%\n",
    "        'D': (0.0400, 0.0575),  # 4.00%-5.75%\n",
    "        'E': (0.0450, 0.0650),  # 4.50%-6.50%\n",
    "        'F': (0.0500, 0.0750),  # 5.00%-7.50%\n",
    "        'G': (0.0550, 0.0800),  # 5.50%-8.00%\n",
    "    }\n",
    "}\n",
    "\n",
    "def assign_fee_bounds(row):\n",
    "    term_str = str(row['term'])  # e.g., '36' or '60'\n",
    "    grade = row['grade']\n",
    "    return fee_bounds[term_str][grade]\n",
    "\n",
    "# Create two new columns: min_fee and max_fee\n",
    "loans[['min_fee', 'max_fee']] = loans.apply(\n",
    "    lambda row: pd.Series(assign_fee_bounds(row)), axis=1\n",
    ")"
   ]
  },
  {
   "cell_type": "code",
   "execution_count": 111,
   "id": "5c0baa69-2d0d-4a72-afac-5684f90307bb",
   "metadata": {},
   "outputs": [
    {
     "name": "stdout",
     "output_type": "stream",
     "text": [
      "Welcome to the CBC MILP Solver \n",
      "Version: 2.10.3 \n",
      "Build Date: Dec 15 2019 \n",
      "\n",
      "command line - /Users/athenaru/MATH 586/Lending-Club-Optimization/.venv/lib/python3.10/site-packages/pulp/apis/../solverdir/cbc/osx/i64/cbc /var/folders/7j/kr4_442d7n50dfb1bfjvh1l00000gn/T/e5ad1a08419a478e9422413dc0b6c62f-pulp.mps -max -timeMode elapsed -branch -printingOptions all -solution /var/folders/7j/kr4_442d7n50dfb1bfjvh1l00000gn/T/e5ad1a08419a478e9422413dc0b6c62f-pulp.sol (default strategy 1)\n",
      "At line 2 NAME          MODEL\n",
      "At line 3 ROWS\n",
      "At line 10005 COLUMNS\n",
      "At line 30006 RHS\n",
      "At line 40007 BOUNDS\n",
      "At line 60008 ENDATA\n",
      "Problem MODEL has 10000 rows, 10000 columns and 10000 elements\n",
      "Coin0008I MODEL read with 0 errors\n",
      "Option for timeMode changed from cpu to elapsed\n",
      "Presolve determined that the problem was infeasible with tolerance of 1e-08\n",
      "Analysis indicates model infeasible or unbounded\n",
      "1 infeasibilities\n",
      "Analysis indicates model infeasible or unbounded\n",
      "Perturbing problem by 0.001% of 40000 - largest nonzero change 0.0043971457 ( 4.6994897e-05%) - largest zero change 0\n",
      "0  Obj 5502715.7 Primal inf 1828.5192 (10000) Dual inf 1.6361921e+08 (10000)\n",
      "0  Obj -0 Primal inf 1677.1067 (10000)\n",
      "Primal infeasible - objective value -0\n",
      "PrimalInfeasible objective -0 - 0 iterations time 0.012\n",
      "\n",
      "Result - Linear relaxation infeasible\n",
      "\n",
      "Enumerated nodes:           0\n",
      "Total iterations:           0\n",
      "Time (CPU seconds):         0.03\n",
      "Time (Wallclock Seconds):   0.05\n",
      "\n",
      "Option for printingOptions changed from normal to all\n",
      "Total time (CPU seconds):       0.05   (Wallclock seconds):       0.08\n",
      "\n"
     ]
    }
   ],
   "source": [
    "import pulp\n",
    "\n",
    "# Initialize the problem\n",
    "prob = pulp.LpProblem(\"Optimize_Origination_Fees\", pulp.LpMaximize)\n",
    "\n",
    "# Create a decision variable for each loan: f_i (origination fee)\n",
    "fee_vars = {\n",
    "    i: pulp.LpVariable(f\"f_{i}\", lowBound=loans.loc[i, 'min_fee'], upBound=loans.loc[i, 'max_fee'])\n",
    "    for i in loans.index\n",
    "}\n",
    "\n",
    "prob += pulp.lpSum([\n",
    "    loans.loc[i, 'loan_amount'] * fee_vars[i] for i in loans.index\n",
    "]), \"Total_Origination_Fee_Revenue\"\n",
    "\n",
    "\n",
    "for i in loans.index:\n",
    "    L_i = loans.loc[i, 'loan_amount']\n",
    "    PV_i = loans.loc[i, 'present_value']\n",
    "    prob += (L_i - L_i * fee_vars[i] <= PV_i), f\"APR_Constraint_{i}\"\n",
    "\n",
    "\n",
    "prob.solve()\n",
    "loans['optimal_fee'] = [pulp.value(fee_vars[i]) for i in loans.index]"
   ]
  },
  {
   "cell_type": "code",
   "execution_count": 112,
   "id": "86226b93",
   "metadata": {},
   "outputs": [
    {
     "name": "stdout",
     "output_type": "stream",
     "text": [
      "       Average_Optimal_Fee  Std_Deviation\n",
      "grade                                    \n",
      "A                   0.0401         0.0006\n",
      "B                   0.0457         0.0011\n",
      "C                   0.0510         0.0012\n",
      "D                   0.0562         0.0012\n",
      "E                   0.0634         0.0023\n",
      "F                   0.0747         0.0011\n",
      "G                   0.0800         0.0000\n"
     ]
    }
   ],
   "source": [
    "fee_stats = loans.groupby('grade', observed=True)['optimal_fee'].agg(\n",
    "    Average_Optimal_Fee='mean',\n",
    "    Std_Deviation='std'\n",
    ").round(4)  # Round to 4 decimal places (e.g., 0.0525 = 5.25%)\n",
    "\n",
    "print(fee_stats)"
   ]
  },
  {
   "cell_type": "code",
   "execution_count": 113,
   "id": "b622dc99",
   "metadata": {},
   "outputs": [],
   "source": [
    "import matplotlib.pyplot as plt\n",
    "import seaborn as sns"
   ]
  },
  {
   "cell_type": "code",
   "execution_count": 114,
   "id": "b838ab64-3836-486b-b699-c7d4a5ba2827",
   "metadata": {},
   "outputs": [
    {
     "name": "stdout",
     "output_type": "stream",
     "text": [
      "Total Origination Fee Revenue: $7,954,052.31\n",
      "grade\n",
      "A    1.523130e+06\n",
      "B    2.270712e+06\n",
      "C    2.293211e+06\n",
      "D    1.356665e+06\n",
      "E    3.908258e+05\n",
      "F    9.509750e+04\n",
      "G    2.441200e+04\n",
      "Name: origination_revenue, dtype: float64\n"
     ]
    },
    {
     "name": "stderr",
     "output_type": "stream",
     "text": [
      "/var/folders/7j/kr4_442d7n50dfb1bfjvh1l00000gn/T/ipykernel_20692/2201792073.py:9: FutureWarning: \n",
      "\n",
      "Passing `palette` without assigning `hue` is deprecated and will be removed in v0.14.0. Assign the `x` variable to `hue` and set `legend=False` for the same effect.\n",
      "\n",
      "  sns.barplot(x=revenue_by_grade.index, y=revenue_by_grade.values, palette=\"viridis\")\n"
     ]
    },
    {
     "data": {
      "image/png": "[encoded data removed]",
      "text/plain": [
       "<Figure size 800x500 with 1 Axes>"
      ]
     },
     "metadata": {},
     "output_type": "display_data"
    }
   ],
   "source": [
    "loans['origination_revenue'] = loans['loan_amount'] * loans['optimal_fee']\n",
    "total_revenue = loans['origination_revenue'].sum()\n",
    "print(f\"Total Origination Fee Revenue: ${total_revenue:,.2f}\")\n",
    "\n",
    "revenue_by_grade = loans.groupby('grade')['origination_revenue'].sum().reindex([\"A\", \"B\", \"C\", \"D\", \"E\", \"F\", \"G\"])\n",
    "print(revenue_by_grade)\n",
    "\n",
    "plt.figure(figsize=(8, 5))\n",
    "sns.barplot(x=revenue_by_grade.index, y=revenue_by_grade.values, palette=\"viridis\")\n",
    "\n",
    "plt.title(\"Total Optimized Origination Fee Revenue by Grade\")\n",
    "plt.xlabel(\"Loan Grade\")\n",
    "plt.ylabel(\"Total Revenue ($)\")\n",
    "plt.tight_layout()\n",
    "plt.show()"
   ]
  },
  {
   "cell_type": "code",
   "execution_count": 115,
   "id": "226dc641",
   "metadata": {},
   "outputs": [
    {
     "data": {
      "text/plain": [
       "<Figure size 1000x600 with 0 Axes>"
      ]
     },
     "metadata": {},
     "output_type": "display_data"
    },
    {
     "data": {
      "image/png": "[encoded data removed]",
      "text/plain": [
       "<Figure size 1057x600 with 1 Axes>"
      ]
     },
     "metadata": {},
     "output_type": "display_data"
    }
   ],
   "source": [
    "loan_grades = {\n",
    "    'A': 414.6,\n",
    "    'B': 524.5,\n",
    "    'C': 474.8,\n",
    "    'D': 248.0,\n",
    "    'E': 63.3,\n",
    "    'F': 14.0,\n",
    "    'G': 2.6,\n",
    "}\n",
    "total_loan_originations = 1741.8\n",
    "truth_proportions = {grade: orig / total_loan_originations for grade, orig in loan_grades.items()}\n",
    "\n",
    "total_revenue = revenue_by_grade.sum()\n",
    "my_proportions = revenue_by_grade / total_revenue\n",
    "\n",
    "comparison_df = pd.DataFrame({\n",
    "    'Optimized Fees': my_proportions,\n",
    "    'Actual Fees': truth_proportions\n",
    "}).reset_index()\n",
    "\n",
    "# Combine the two proportions into one DataFrame\n",
    "comparison_df = pd.DataFrame({\n",
    "    'Grade': my_proportions.index,\n",
    "    'Optimized Fees': my_proportions.values,\n",
    "    'Actual Fees': list(truth_proportions.values())\n",
    "})\n",
    "\n",
    "# Melt the DataFrame to \"long\" format for grouped plotting\n",
    "comparison_long_df = comparison_df.melt(id_vars=\"Grade\", value_vars=[\"Optimized Fees\", \"Actual Fees\"],\n",
    "                                        var_name=\"Fee Type\", value_name=\"Proportion\")\n",
    "\n",
    "# Set the figure size\n",
    "plt.figure(figsize=(10, 6))\n",
    "\n",
    "# Create a grouped barplot\n",
    "g = sns.catplot(\n",
    "    data=comparison_long_df, kind=\"bar\",\n",
    "    x=\"Grade\", y=\"Proportion\", hue=\"Fee Type\", \n",
    "    palette=\"Set2\", height=6, aspect=1.5\n",
    ")\n",
    "\n",
    "# Despine the plot for cleaner appearance\n",
    "g.despine(left=True)\n",
    "\n",
    "# Add labels and title\n",
    "g.set_axis_labels(\"Loan Grade\", \"Proportion of Origination Fee Revenue\")\n",
    "\n",
    "# Show the plot\n",
    "plt.title(\"Proportion of Origination Fee Revenue by Loan Grade\")\n",
    "plt.tight_layout()\n",
    "plt.show(g)"
   ]
  },
  {
   "cell_type": "code",
   "execution_count": 116,
   "id": "dab81a64-1619-46a8-8df2-d6fd8ed1f833",
   "metadata": {},
   "outputs": [
    {
     "data": {
      "image/png": "[encoded data removed]",
      "text/plain": [
       "<Figure size 1000x600 with 1 Axes>"
      ]
     },
     "metadata": {},
     "output_type": "display_data"
    }
   ],
   "source": [
    "loans['origination_fee_percent'] = loans['optimal_fee'] * 100\n",
    "\n",
    "grade_order = [\"A\", \"B\", \"C\", \"D\", \"E\", \"F\", \"G\"]\n",
    "loans['grade'] = pd.Categorical(loans['grade'], categories=grade_order, ordered=True)\n",
    "\n",
    "# Create single boxplot for each grade\n",
    "plt.figure(figsize=(10, 6))\n",
    "sns.boxplot(data=loans, x='grade', y='origination_fee_percent', order=grade_order)\n",
    "\n",
    "# Formatting\n",
    "plt.title(\"Optimized Origination Fee Distribution by Grade\", pad=20)\n",
    "plt.xlabel(\"Loan Grade\")\n",
    "plt.ylabel(\"Origination Fee (%)\")\n",
    "plt.grid(axis='y', alpha=0.3)\n",
    "\n",
    "plt.show()"
   ]
  }
 ],
 "metadata": {
  "kernelspec": {
   "display_name": ".venv",
   "language": "python",
   "name": "python3"
  },
  "language_info": {
   "codemirror_mode": {
    "name": "ipython",
    "version": 3
   },
   "file_extension": ".py",
   "mimetype": "text/x-python",
   "name": "python",
   "nbconvert_exporter": "python",
   "pygments_lexer": "ipython3",
   "version": "3.10.1"
  }
 },
 "nbformat": 4,
 "nbformat_minor": 5
}
