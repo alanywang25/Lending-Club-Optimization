{
 "cells": [
  {
   "cell_type": "code",
   "execution_count": 1,
   "id": "b64e301f",
   "metadata": {},
   "outputs": [
    {
     "name": "stdout",
     "output_type": "stream",
     "text": [
      "Welcome to the CBC MILP Solver \n",
      "Version: 2.10.3 \n",
      "Build Date: Dec 15 2019 \n",
      "\n",
      "command line - /home/codespace/.python/current/lib/python3.12/site-packages/pulp/apis/../solverdir/cbc/linux/i64/cbc /tmp/afff670f9ac84a74b8f7234936213b69-pulp.mps -max -timeMode elapsed -branch -printingOptions all -solution /tmp/afff670f9ac84a74b8f7234936213b69-pulp.sol (default strategy 1)\n",
      "At line 2 NAME          MODEL\n",
      "At line 3 ROWS\n",
      "At line 7 COLUMNS\n",
      "At line 14 RHS\n",
      "At line 17 BOUNDS\n",
      "At line 18 ENDATA\n",
      "Problem MODEL has 2 rows, 2 columns and 4 elements\n",
      "Coin0008I MODEL read with 0 errors\n",
      "Option for timeMode changed from cpu to elapsed\n",
      "Presolve 2 (0) rows, 2 (0) columns and 4 (0) elements\n",
      "0  Obj -0 Dual inf 90 (2)\n",
      "0  Obj -0 Dual inf 90 (2)\n",
      "2  Obj 1550\n",
      "Optimal - objective value 1550\n",
      "Optimal objective 1550 - 2 iterations time 0.002\n",
      "Option for printingOptions changed from normal to all\n",
      "Total time (CPU seconds):       0.00   (Wallclock seconds):       0.00\n",
      "\n",
      "Status: 1, PULP_CBC_CMD\n",
      "Optimal number of Product 1 units: 20.0\n",
      "Optimal number of Product 2 units: 15.0\n",
      "Maximum profit: $1550.0\n"
     ]
    }
   ],
   "source": [
    "# Import PuLP\n",
    "from pulp import LpMaximize, LpProblem, LpVariable, value\n",
    "\n",
    "# Create the optimization problem\n",
    "model = LpProblem(name=\"product_mix\", sense=LpMaximize)\n",
    "\n",
    "# Decision variables\n",
    "x1 = LpVariable(name=\"Product_1_units\", lowBound=0, cat='Continuous')\n",
    "x2 = LpVariable(name=\"Product_2_units\", lowBound=0, cat='Continuous')\n",
    "\n",
    "# Objective function\n",
    "model += 40 * x1 + 50 * x2, \"Total_Profit\"\n",
    "\n",
    "# Constraints\n",
    "model += 2 * x1 + 4 * x2 <= 100, \"Labor_Constraint\"\n",
    "model += 3 * x1 + 2 * x2 <= 90, \"Material_Constraint\"\n",
    "\n",
    "# Solve the model\n",
    "model.solve()\n",
    "\n",
    "# Output the results\n",
    "print(f\"Status: {model.status}, {model.solver.name}\")\n",
    "print(f\"Optimal number of Product 1 units: {x1.value()}\")\n",
    "print(f\"Optimal number of Product 2 units: {x2.value()}\")\n",
    "print(f\"Maximum profit: ${value(model.objective)}\")"
   ]
  }
 ],
 "metadata": {
  "kernelspec": {
   "display_name": "Python 3",
   "language": "python",
   "name": "python3"
  },
  "language_info": {
   "codemirror_mode": {
    "name": "ipython",
    "version": 3
   },
   "file_extension": ".py",
   "mimetype": "text/x-python",
   "name": "python",
   "nbconvert_exporter": "python",
   "pygments_lexer": "ipython3",
   "version": "3.12.1"
  }
 },
 "nbformat": 4,
 "nbformat_minor": 5
}
