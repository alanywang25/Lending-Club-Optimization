{
 "cells": [
  {
   "cell_type": "code",
   "execution_count": 2,
   "id": "0f9945a9-c7f6-4767-8555-bf468eac846d",
   "metadata": {},
   "outputs": [],
   "source": [
    "import pandas as pd\n",
    "import pulp as lp\n",
    "import numpy as np\n",
    "\n",
    "# Load data\n",
    "df = pd.read_csv('loans_full_schema.csv')\n",
    "\n",
    "# Parameter configuration\n",
    "R_MAX = 0.18          # Maximum APR (constraint)\n",
    "FEE_MIN = 0.03        # Minimum origination fee rate\n",
    "FEE_MAX = 0.08        # Maximum origination fee rate\n",
    "\n",
    "def calculate_present_value(row):\n",
    "    \"\"\"Calculate the present value of monthly payments for a loan\"\"\"\n",
    "    term = int(row['term'])          # Loan term in months\n",
    "    installment = row['installment'] # Monthly payment amount\n",
    "    monthly_discount = 1 + R_MAX / 12  # Monthly discount factor\n",
    "    \n",
    "    total_pv = 0.0\n",
    "    for t in range(1, term + 1):\n",
    "        total_pv += installment / (monthly_discount ** t)\n",
    "    return total_pv\n",
    "\n",
    "# Calculate present value for each loan\n",
    "df['present_value'] = df.apply(calculate_present_value, axis=1)\n",
    "present_value = np.array(df['present_value'])"
   ]
  },
  {
   "cell_type": "code",
   "execution_count": 3,
   "id": "5990fcef-a44f-4730-a78e-1c63ca660caa",
   "metadata": {},
   "outputs": [
    {
     "name": "stdout",
     "output_type": "stream",
     "text": [
      "\n",
      "[1/3] Checking loan feasibility...\n",
      "Excluded 6169 loans violating minimum PV requirement:\n",
      "      loan_amount  term  installment  present_value  min_required_pv\n",
      "0           28000    60       652.53   25696.806856          25760.0\n",
      "3           21600    36       664.19   18371.949912          19872.0\n",
      "5            5000    36       153.75    4252.830213           4600.0\n",
      "6           24000    60       553.35   21791.071788          22080.0\n",
      "7           20000    60       444.79   17515.949798          18400.0\n",
      "...           ...   ...          ...            ...              ...\n",
      "9993         5000    36       156.62    4332.216377           4600.0\n",
      "9994         4800    36       155.81    4309.811222           4416.0\n",
      "9995        24000    36       744.90   20604.443743          22080.0\n",
      "9998        24000    36       722.76   19992.036193          22080.0\n",
      "9999        12800    36       418.52   11576.549598          11776.0\n",
      "\n",
      "[6169 rows x 5 columns]\n"
     ]
    }
   ],
   "source": [
    "print(\"\\n[1/3] Checking loan feasibility...\")\n",
    "df[\"min_required_pv\"] = df[\"loan_amount\"] * (1 - FEE_MAX)\n",
    "infeasible_mask = df[\"present_value\"] < df[\"min_required_pv\"]\n",
    "infeasible_loans = df[infeasible_mask]\n",
    "feasible_df = df[~infeasible_mask].copy()\n",
    "\n",
    "print(f\"Excluded {len(infeasible_loans)} loans violating minimum PV requirement:\")\n",
    "if len(infeasible_loans) > 0:\n",
    "    print(infeasible_loans[[\"loan_amount\", \"term\", \"installment\", \"present_value\", \"min_required_pv\"]])\n",
    "else:\n",
    "    print(\"(None)\")"
   ]
  }
 ],
 "metadata": {
  "kernelspec": {
   "display_name": "Python 3 (ipykernel)",
   "language": "python",
   "name": "python3"
  },
  "language_info": {
   "codemirror_mode": {
    "name": "ipython",
    "version": 3
   },
   "file_extension": ".py",
   "mimetype": "text/x-python",
   "name": "python",
   "nbconvert_exporter": "python",
   "pygments_lexer": "ipython3",
   "version": "3.8.19"
  }
 },
 "nbformat": 4,
 "nbformat_minor": 5
}
